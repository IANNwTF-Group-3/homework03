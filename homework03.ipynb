{
  "nbformat": 4,
  "nbformat_minor": 0,
  "metadata": {
    "colab": {
      "provenance": []
    },
    "kernelspec": {
      "name": "python3",
      "display_name": "Python 3"
    },
    "language_info": {
      "name": "python"
    },
    "accelerator": "GPU",
    "gpuClass": "standard"
  },
  "cells": [
    {
      "cell_type": "markdown",
      "source": [
        "# Preparing Dataset\n",
        "\n",
        "Loading and defining data preparation pipeline"
      ],
      "metadata": {
        "id": "7Ctmqm4PBV14"
      }
    },
    {
      "cell_type": "code",
      "source": [
        "import tensorflow as tf\n",
        "device_name = tf.test.gpu_device_name()\n",
        "if device_name != '/device:GPU:0':\n",
        "  raise SystemError('GPU device not found')\n",
        "print('Found GPU at: {}'.format(device_name))"
      ],
      "metadata": {
        "colab": {
          "base_uri": "https://localhost:8080/"
        },
        "id": "bbOk4_psM-1j",
        "outputId": "e971eafc-3abc-4c24-b8c6-fa461b332140"
      },
      "execution_count": 1,
      "outputs": [
        {
          "output_type": "stream",
          "name": "stdout",
          "text": [
            "Found GPU at: /device:GPU:0\n"
          ]
        }
      ]
    },
    {
      "cell_type": "code",
      "source": [
        "import tensorflow_datasets as tfds\n",
        "\n",
        "(train_ds, test_ds), ds_info = tfds.load(\"mnist\" , split =[\"train\", \"test\"] , as_supervised=True , with_info=True)\n",
        "\n",
        "# print(ds_info)\n",
        "\n",
        "print(\"How many training/test images are there?\")\n",
        "print(ds_info.splits['train'].num_examples)\n",
        "print(ds_info.splits['test'].num_examples)\n",
        "\n",
        "print(\"What iss the image shape?\")\n",
        "print(ds_info.features['image'].shape)\n",
        "\n",
        "print(\"What range are pixel values in?\")\n",
        "print(ds_info.features['image'].dtype)\n",
        "print(tf.uint8.min)\n",
        "print(tf.uint8.max)\n",
        "\n",
        "def prepare(ds: tf.data.Dataset):\n",
        "  def reshape(image, label):\n",
        "      return tf.reshape(image, [-1]), label\n",
        "  ds = ds.map(reshape)\n",
        "  \n",
        "  def normalize(image, label):\n",
        "      return (tf.cast(image, tf.float32) / 128) - 1., label\n",
        "  ds = ds.map(normalize)\n",
        "\n",
        "  def one_hot(image, label):\n",
        "      return image, tf.one_hot(label, 10)\n",
        "  ds = ds.map(one_hot)\n",
        "\n",
        "  ds = ds.cache()\n",
        "  ds = ds.shuffle(1000)\n",
        "  ds = ds.batch(32)\n",
        "  ds = ds.prefetch(20)\n",
        "\n",
        "  return ds\n",
        "\n",
        "train_ds = train_ds.apply(prepare)\n",
        "test_ds = test_ds.apply(prepare)"
      ],
      "metadata": {
        "colab": {
          "base_uri": "https://localhost:8080/"
        },
        "id": "FpleOTfSBaQs",
        "outputId": "bd580024-c7fc-4fb0-c43b-e63f767dc984"
      },
      "execution_count": 2,
      "outputs": [
        {
          "output_type": "stream",
          "name": "stdout",
          "text": [
            "How many training/test images are there?\n",
            "60000\n",
            "10000\n",
            "What iss the image shape?\n",
            "(28, 28, 1)\n",
            "What range are pixel values in?\n",
            "<dtype: 'uint8'>\n",
            "0\n",
            "255\n"
          ]
        }
      ]
    },
    {
      "cell_type": "markdown",
      "source": [
        "# Classes"
      ],
      "metadata": {
        "id": "hPQvb3NnCKxr"
      }
    },
    {
      "cell_type": "code",
      "source": [
        "import tensorflow as tf\n",
        "\n",
        "class MLP(tf.Module):\n",
        "  \"\"\"\n",
        "  MLP model holding layers.\n",
        "  \"\"\"\n",
        "\n",
        "  def __init__(self):\n",
        "    \"\"\"\n",
        "    Define the layers.\n",
        "    Input size is not given since we feed the input in call step.\n",
        "    \"\"\"\n",
        "    super(MLP, self).__init__()\n",
        "\n",
        "    self.first_hidden = tf.keras.layers.Dense(256, activation=tf.nn.relu)\n",
        "    self.second_hidden = tf.keras.layers.Dense(256, activation=tf.nn.relu)\n",
        "\n",
        "    # activate = softmax: in our one-hot vector we dont want an activated or not,\n",
        "    # we get an output [-1, 1] which sums up to 1\n",
        "    # this fits well with our desire to choose the best fitting number\n",
        "    self.output_layer = tf.keras.layers.Dense(10, activation=tf.nn.softmax)\n",
        "\n",
        "  @tf.function\n",
        "  def __call__(self, inputs):\n",
        "    \"\"\"\n",
        "    Propagates inputs through network.\n",
        "    \"\"\"\n",
        "    x = self.first_hidden(inputs)\n",
        "    x = self.second_hidden(x)\n",
        "    x = self.output_layer(x)\n",
        "    return x\n"
      ],
      "metadata": {
        "id": "KdpB45V8CJx3"
      },
      "execution_count": 3,
      "outputs": []
    },
    {
      "cell_type": "code",
      "source": [
        "import numpy as np\n",
        "\n",
        "def training_step(model, input, target, loss_function, optimizer):\n",
        "  \"\"\"\n",
        "  Performs 1 step in which we feed an input to the network,\n",
        "  get a prediction, compute a loss and with the tf.GradientTape()\n",
        "  we can compute gradients and implement backpropagation with the optimizer.\n",
        "  returns loss to keep track\n",
        "  \"\"\"\n",
        "  with tf.GradientTape() as tape:\n",
        "      prediction = model(input)\n",
        "      loss = loss_function(target, prediction)\n",
        "  gradients = tape.gradient(loss, model.trainable_variables)\n",
        "  optimizer.apply_gradients(zip(gradients, model.trainable_variables))\n",
        "\n",
        "  return loss\n",
        "\n",
        "def test(model, test_data, loss_function):\n",
        "  \"\"\"\n",
        "  Takes current state of our model and computes loss/accuracies.\n",
        "  \"\"\"\n",
        "  test_accuracy_aggregator = []\n",
        "  test_loss_aggregator = []\n",
        "\n",
        "  for (input, target) in test_data:\n",
        "      prediction = model(input)\n",
        "      sample_test_loss = loss_function(target, prediction)\n",
        "\n",
        "      # how often prediction and target are the same\n",
        "      sample_test_accuracy = tf.argmax(target, axis=1) == tf.argmax(prediction, axis=1)\n",
        "      sample_test_accuracy = np.mean(sample_test_accuracy)\n",
        "\n",
        "      # track metrics\n",
        "      test_loss_aggregator.append(tf.reduce_mean(sample_test_loss.numpy()))\n",
        "      test_accuracy_aggregator.append(sample_test_accuracy)\n",
        "\n",
        "  # overall metrics\n",
        "  test_loss = np.mean(test_loss_aggregator)\n",
        "  test_accuracy = np.mean(test_accuracy_aggregator)\n",
        "\n",
        "  return test_loss, test_accuracy"
      ],
      "metadata": {
        "id": "Rmj0n6IGHKDq"
      },
      "execution_count": 4,
      "outputs": []
    },
    {
      "cell_type": "code",
      "execution_count": 5,
      "metadata": {
        "colab": {
          "base_uri": "https://localhost:8080/"
        },
        "id": "6ypzkJW5-t9S",
        "outputId": "fa3eb0a6-5f63-42e9-b77b-aed6fb05b960"
      },
      "outputs": [
        {
          "output_type": "stream",
          "name": "stdout",
          "text": [
            "Epoch: 0 starts with accuracy: 0.10922523961661341\n",
            "Epoch: 1 starts with accuracy: 0.9560702875399361\n",
            "Epoch: 2 starts with accuracy: 0.9609624600638977\n",
            "Epoch: 3 starts with accuracy: 0.9638578274760383\n",
            "Epoch: 4 starts with accuracy: 0.9714456869009584\n",
            "Epoch: 5 starts with accuracy: 0.9768370607028753\n",
            "Epoch: 6 starts with accuracy: 0.9766373801916933\n",
            "Epoch: 7 starts with accuracy: 0.9776357827476039\n",
            "Epoch: 8 starts with accuracy: 0.977935303514377\n",
            "Epoch: 9 starts with accuracy: 0.9766373801916933\n",
            "after Training, loss: 0.07430752366781235, accuracy: 0.9787340255591054\n"
          ]
        }
      ],
      "source": [
        "epochs = 10\n",
        "learning_rate = 0.1\n",
        "\n",
        "model = MLP()\n",
        "\n",
        "# to compute losses for one-hot vectors\n",
        "cross_entropy_loss = tf.keras.losses.CategoricalCrossentropy()\n",
        "\n",
        "optimizer = tf.keras.optimizers.SGD(learning_rate)\n",
        "\n",
        "# metrics\n",
        "train_losses = []\n",
        "test_losses = []\n",
        "test_accuracies = []\n",
        "\n",
        "# test_data before training\n",
        "test_loss, test_accuracy = test(model, test_ds, cross_entropy_loss)\n",
        "test_losses.append(test_loss)\n",
        "test_accuracies.append(test_accuracy)\n",
        "\n",
        "# training_data before training\n",
        "train_loss, _ = test(model, train_ds, cross_entropy_loss)\n",
        "test_losses.append(train_loss)\n",
        "\n",
        "# training loop\n",
        "for epoch in range(epochs):\n",
        "    print(f'Epoch: {epoch} starts with accuracy: {test_accuracies[-1]}')\n",
        "    epoch_loss_agg = []\n",
        "\n",
        "    for input, target in train_ds:\n",
        "        train_loss = training_step(model, input, target, cross_entropy_loss, optimizer)\n",
        "        epoch_loss_agg.append(train_loss)\n",
        "\n",
        "    # metrics\n",
        "    train_losses.append(tf.reduce_mean(epoch_loss_agg))\n",
        "    test_loss, test_accuracy = test(model, test_ds, cross_entropy_loss)\n",
        "    test_losses.append(test_loss)\n",
        "    test_accuracies.append(test_accuracy)\n",
        "\n",
        "# metrics after training\n",
        "train_loss, test_accuracy = test(model, test_ds, cross_entropy_loss)\n",
        "print(f\"after Training, loss: {train_loss}, accuracy: {test_accuracy}\")"
      ]
    },
    {
      "cell_type": "code",
      "source": [
        "import matplotlib.pyplot as plt\n",
        "%matplotlib inline\n",
        "\n",
        "# visualize the test_losses, test_accuracies and train_losses over time\n",
        "# in the .pdf we are told to visualize train_accuracy aswell but that did not make sense to us\n",
        "def visualization(test_losses, test_accuracies, train_losses):\n",
        "    plt.figure()\n",
        "    line1, = plt.plot(train_losses, \"b\")\n",
        "    line2, = plt.plot(test_losses, \"r\" )\n",
        "    line3, = plt.plot(test_accuracies, \"g\" )\n",
        "    plt.xlabel(\"Training steps\")\n",
        "    plt.ylabel(\"Loss/Accuracy\")\n",
        "    plt.legend((line1, line2, line3),(\"training loss\", \"testloss\" , \"test accuracy\"))\n",
        "    plt.show()\n",
        "\n",
        "    for image, label in test_ds.take(1):\n",
        "      image = image.numpy()\n",
        "      label = label.numpy()\n",
        "\n",
        "      predictions = model(image)\n",
        "\n",
        "      plt.figure(figsize=(10, 10))\n",
        "      for i in range(25):\n",
        "          plt.subplot(5, 5, i+1)\n",
        "          plt.xticks([])\n",
        "          plt.yticks([])\n",
        "          plt.grid(False)\n",
        "          plt.imshow(image[i].reshape(28, 28), cmap=plt.cm.binary)\n",
        "          plt.xlabel(np.argmax(predictions[i]))\n",
        "    plt.show()\n",
        "\n",
        "\n",
        "visualization(test_losses, test_accuracies, train_losses)"
      ],
      "metadata": {
        "colab": {
          "base_uri": "https://localhost:8080/",
          "height": 851
        },
        "id": "W8YErBOxFYgl",
        "outputId": "3e26f4f8-ac3a-4564-90c8-0741c93a3864"
      },
      "execution_count": 6,
      "outputs": [
        {
          "output_type": "display_data",
          "data": {
            "text/plain": [
              "<Figure size 432x288 with 1 Axes>"
            ],
            "image/png": "[encoded data removed]"
          },
          "metadata": {
            "needs_background": "light"
          }
        },
        {
          "output_type": "display_data",
          "data": {
            "text/plain": [
              "<Figure size 720x720 with 25 Axes>"
            ],
            "image/png": "[encoded data removed]"
          },
          "metadata": {}
        }
      ]
    }
  ]
}